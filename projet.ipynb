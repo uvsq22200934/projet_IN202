{
 "cells": [
  {
   "attachments": {},
   "cell_type": "markdown",
   "metadata": {},
   "source": [
    "## Outils pour la manipulation d'images et librairies.\n"
   ]
  },
  {
   "cell_type": "code",
   "execution_count": 2,
   "metadata": {},
   "outputs": [],
   "source": [
    "import PIL as pil\n",
    "from PIL import Image, ImageTk\n",
    "import numpy as np\n",
    "import scipy as sp\n",
    "import tkinter as tk\n",
    "from tkinter import filedialog, simpledialog\n",
    "import os\n",
    "import random\n",
    "from math import log10, sqrt\n",
    "\n",
    "def load(filename):\n",
    "    toLoad= Image.open(filename)\n",
    "    return np.asarray(toLoad)\n",
    "\n",
    "\n",
    "def psnr(original, compressed):\n",
    "    mse = np.mean((original - compressed) ** 2)\n",
    "    max_pixel = 255.0\n",
    "    psnr = 20 * log10(max_pixel / sqrt(mse))\n",
    "    return psnr\n",
    "\n",
    "def dct2(a):\n",
    "    return sp.fft.dct( sp.fft.dct( a, axis=0, norm='ortho' ), axis=1, norm='ortho' )\n",
    "\n",
    "def idct2(a):\n",
    "    return sp.fft.idct( sp.fft.idct( a, axis=0 , norm='ortho'), axis=1 , norm='ortho')\n",
    "\n",
    "nomImg=\"\"\n"
   ]
  },
  {
   "attachments": {},
   "cell_type": "markdown",
   "metadata": {},
   "source": [
    "## Normalisation de l'image (YCbCr et padding)"
   ]
  },
  {
   "cell_type": "markdown",
   "metadata": {},
   "source": [
    "QUESTION 1 : \n",
    "Donner le code qui transforme une image RGB en une image YCbCr. Vous pourrez produire une matrice pour chaque composante, pour pouvoir plus facilement les manipuler ind ́ependamment. Vous pouvez stocker les donn ́ees YCbCr comme des entiers ou des flottants, mais vous expliquerez votre choix."
   ]
  },
  {
   "cell_type": "code",
   "execution_count": 6,
   "metadata": {},
   "outputs": [],
   "source": [
    "def YCbCr(mat):\n",
    "    matYCbCr=np.empty((mat.shape[0],mat.shape[1],3),dtype=np.float64)\n",
    "\n",
    "    for i in range(matYCbCr.shape[0]):\n",
    "        for j in range(matYCbCr.shape[1]):\n",
    "            matYCbCr[i,j,0] = 0.299 * mat[i,j,0] + 0.587 * mat[i,j,1] + 0.114 * mat[i,j,2]\n",
    "            \n",
    "            matYCbCr[i,j,1] = - 0.1687 * mat[i,j,0] - 0.3313 * mat[i,j,1] + 0.5 * mat[i,j,2] + 128\n",
    "\n",
    "            matYCbCr[i,j,2] = 0.5 * mat[i,j,0] - 0.4187 * mat[i,j,1] - 0.0813 * mat[i,j,2] + 128\n",
    "            \n",
    "    return matYCbCr"
   ]
  },
  {
   "cell_type": "markdown",
   "metadata": {},
   "source": [
    "QUESTION 2 : Donner le code qui transforme une image YCbCr en une image RGB. Attention, les valeurs des canaux RGB doivent ˆetre un entier dans [0, 255] qui pourra ˆetre cod ́e sur un octet. Appliquer successivement la transformation RGB vers YCbCr puis YCbCr vers RGB et v ́erifier que vous obtenez l’image de d ́epart. Vous consulterez la documentation des fonctions de numpy clip, uint8 et mask qui pourraient vous ˆetre utiles."
   ]
  },
  {
   "cell_type": "code",
   "execution_count": 7,
   "metadata": {},
   "outputs": [],
   "source": [
    "def RGB(mat):\n",
    "    matRGB=np.empty([mat.shape[0],mat.shape[1],3],dtype=np.uint8)\n",
    "\n",
    "    for i in range(matRGB.shape[0]):\n",
    "        for j in range(matRGB.shape[1]): \n",
    "            \n",
    "            y = mat[i,j,0]\n",
    "            cb = mat[i,j,1]\n",
    "            cr = mat[i,j,2]\n",
    "            \n",
    "            r = y + 1.402 * (cr - 128) \n",
    "            g = y - 0.34414 * (cb - 128) - 0.71414 * (cr - 128)\n",
    "            b = y + 1.772 * (cb - 128)\n",
    "            \n",
    "            matRGB[i,j,0] = int(r)\n",
    "            \n",
    "            matRGB[i,j,1] = int(g)\n",
    "            \n",
    "            matRGB[i,j,2] = int(b)\n",
    "             \n",
    "    return matRGB"
   ]
  },
  {
   "cell_type": "code",
   "execution_count": 53,
   "metadata": {},
   "outputs": [
    {
     "name": "stdout",
     "output_type": "stream",
     "text": [
      "63.79010503046213\n"
     ]
    }
   ],
   "source": [
    "test = load(\"test.png\")\n",
    "compresse = YCbCr(test)\n",
    "nouveau = RGB(compresse)\n",
    "print(psnr(test, nouveau))"
   ]
  },
  {
   "cell_type": "markdown",
   "metadata": {},
   "source": [
    "QUESTION 3 : \n",
    "Pour pouvoir traiter une image, nous avons besoin que ses dimensions soient des multiples de 8. Pour le garantir, il faut faire du remplissage (padding), c’est `a dire qu’on va ajouter des lignes et des colonnes de pixel noirs en bas et `a droite de l’image. Si on a une image de dimension 15×21, on obtiendra une image de dimension 16 × 24 avec une ligne suppl ́ementaire et trois colonnes suppl ́ementaires."
   ]
  },
  {
   "cell_type": "markdown",
   "metadata": {},
   "source": [
    "Question 3 : Donner la fonction qui r ́ealise ce padding ainsi que celle qui l’ ́elimine et v ́erifier que l’application de ces deux transformations laissent l’image inchang ́ee."
   ]
  },
  {
   "cell_type": "code",
   "execution_count": 36,
   "metadata": {},
   "outputs": [],
   "source": [
    "def padding(mat):\n",
    "    if mat.shape[0] % 8 != 0:\n",
    "        l = (mat.shape[0]//8+1 * 8)\n",
    "        for i in range (mat.shape[0]):\n",
    "            for j in range (mat.shape[1]):\n",
    "                mat[i][j]=(0,0,0)\n",
    "    if mat.shape[1] % 8 != 0:\n",
    "        k = (mat.shape[1]//8+1 * 8)\n",
    "        for j in range (mat.shape[1]):\n",
    "            for i in range (mat.shape[0]):\n",
    "                mat[i][j]=(0,0,0)\n",
    "    return mat \n",
    "\n",
    "\n",
    "def retire_padding(mat):\n",
    "    mat=load(nomImg)\n",
    "    for i in range(mat.shape[0]):\n",
    "        for j in range(mat.shape[1]):\n",
    "            if mat[i,j]==(0,0,0):\n",
    "                mat.remove(mat[i,j])"
   ]
  },
  {
   "cell_type": "markdown",
   "metadata": {},
   "source": [
    "QUESTION 4 : Impl ́ementer la fonction qui sous- ́echantillonne une matrice et renvoie une matrice deux fois plus petite."
   ]
  },
  {
   "cell_type": "code",
   "execution_count": 44,
   "metadata": {},
   "outputs": [],
   "source": [
    "def petite_mat(mat):\n",
    "    mat_reduite=np.empty([mat.shape[0], mat.shape[1]//2,3],dtype=np.uint8)\n",
    "    for i in range(0,mat_reduite.shape[0]):\n",
    "        for j in range(0,mat_reduite.shape[1]):\n",
    "            mat_reduite[i,j,1] = (mat[i,2*j,1] + mat[i,2*j+1,1])//2\n",
    "            mat_reduite[i,j,2] = (mat[i,2*j,2] + mat[i,2*j+1,2])//2\n",
    "    return mat_reduite\n"
   ]
  },
  {
   "cell_type": "markdown",
   "metadata": {},
   "source": [
    "QUESTION 5 : Impl ́ementer la fonction qui multiplie par deux la deuxi`eme dimension d’une matrice. Tester `a la suite le sous- ́echantillonnage et cette fonction, vous devez retrouver une image presque identique `a celle de d ́epart."
   ]
  },
  {
   "cell_type": "code",
   "execution_count": null,
   "metadata": {},
   "outputs": [],
   "source": [
    "def matrice_doublee(mat):\n",
    "    mat_doublee =np.empty([(mat.shape[0]), mat.shape[1]*2, 3], dtype=np.uint8)\n",
    "    for i in range(mat_doublee.shape[0]):\n",
    "        for j in range(mat_doublee.shape[1]):\n",
    "            mat_doublee[i,j], mat[(i+1),(j+1)] = ((mat[i]), mat[j]), (mat[i], mat[j])"
   ]
  },
  {
   "attachments": {},
   "cell_type": "markdown",
   "metadata": {},
   "source": [
    "## Découpage en blocs et compression"
   ]
  },
  {
   "cell_type": "markdown",
   "metadata": {},
   "source": [
    "QUESTION 6 : Soit une matrice dont les deux dimensions sont divisibles par 8. Donner une fonction qui d ́ecoupe cette matrice en blocs 8 × 8 et les stocke dans une liste. L’ordre des blocs correspond `a l’ordre de lecture d’une image."
   ]
  },
  {
   "cell_type": "code",
   "execution_count": null,
   "metadata": {},
   "outputs": [],
   "source": [
    "#moi\n",
    "\n",
    "def blocs(mat):\n",
    "    l_blocs =[]\n",
    "    m=0\n",
    "    n=0\n",
    "    while m < (mat.shape[0]):\n",
    "        while n < (mat.shape[1]):\n",
    "            for i in range(mat.shape[0]//8):\n",
    "                for j in range(mat.shape[1]//8):\n",
    "                    l_blocs[m].append(mat[i,j])\n",
    "                    m+=8\n",
    "                    n+=8\n",
    "\n",
    "    return l_blocs\n",
    "\n",
    "\n",
    "#pasmoi\n",
    "\n",
    "def blocs(mat):\n",
    "    l_blocs =[]\n",
    "    m=0\n",
    "    n=0\n",
    "    while m < (mat.shape[0]):\n",
    "        while n < (mat.shape[1]):\n",
    "            for i in range(mat.shape[0]//8):\n",
    "                for j in range(mat.shape[1]//8):\n",
    "                    l_blocs[m].append(mat[i,j])\n",
    "                    m+=8\n",
    "                    n+=8\n",
    "\n",
    "    return l_blocs"
   ]
  },
  {
   "cell_type": "markdown",
   "metadata": {},
   "source": [
    "QUESTION 7 : Donner une fonction qui applique la transform ́ee `a chaque bloc d’une liste."
   ]
  },
  {
   "cell_type": "code",
   "execution_count": null,
   "metadata": {},
   "outputs": [],
   "source": [
    "def transformee(b):\n",
    "    pass"
   ]
  },
  {
   "cell_type": "markdown",
   "metadata": {},
   "source": [
    "QUESTION 8 : Impl ́ementez le filtrage des coefficients des blocs selon un seuil donn ́e en argument."
   ]
  },
  {
   "cell_type": "code",
   "execution_count": null,
   "metadata": {},
   "outputs": [],
   "source": [
    "def filtrage(bloc,seuil):\n",
    "    for i in range():\n",
    "        for j in range():\n",
    "            if coeff < seuil :\n",
    "                coeff =seuil"
   ]
  },
  {
   "cell_type": "markdown",
   "metadata": {},
   "source": [
    "QUESTION 9 : Donner une fonction qui est capable, `a partir d’une image RGB, de cr ́eer les listes de blocs compress ́es dans les 3 modes."
   ]
  },
  {
   "cell_type": "code",
   "execution_count": null,
   "metadata": {},
   "outputs": [],
   "source": []
  },
  {
   "attachments": {},
   "cell_type": "markdown",
   "metadata": {},
   "source": [
    "## Écriture dans un fichier"
   ]
  },
  {
   "cell_type": "markdown",
   "metadata": {},
   "source": [
    "QUESTION  10 : Pour commencer, vous  ́ecrirez quatres lignes contenant les informations de votre image. La premi`ere ligne contiendra le type du fichier : “SJPG”. La deuxi`eme ligne contiendra les dimensions de l’image dans l’ordre hauteur puis largeur, s ́epar ́ees par un espace, par exemple “200 300”. La troisi`eme ligne contiendra le mode de compression, par exemple “mode 1”. La quatri`eme ligne contiendra “RLE” si vous utilisez un run length encoding, ou “NORLE” sinon."
   ]
  },
  {
   "cell_type": "code",
   "execution_count": null,
   "metadata": {},
   "outputs": [],
   "source": []
  },
  {
   "cell_type": "markdown",
   "metadata": {},
   "source": [
    "QUESTION 11 : Vous  ́ecrirez ensuite le contenu des blocs, d’abord ceux de Y, puis ceux de Cb puis ceux de Cr. Chaque bloc est  ́ecrit sur une ligne, les valeurs  ́etant des entiers s ́epar ́es par de espaces."
   ]
  },
  {
   "cell_type": "code",
   "execution_count": null,
   "metadata": {},
   "outputs": [],
   "source": []
  },
  {
   "cell_type": "markdown",
   "metadata": {},
   "source": [
    "QUESTION 12 : Ajouter une option `a votre fonction d’ ́ecriture pour qu’elle puisse  ́ecrire les blocs en appliquant le codage RLE."
   ]
  },
  {
   "attachments": {},
   "cell_type": "markdown",
   "metadata": {},
   "source": [
    "## Décompression"
   ]
  },
  {
   "cell_type": "markdown",
   "metadata": {},
   "source": [
    "QUESTION 13 : E ́crire une fonction de d ́ecompression qui prend une liste de blocs pour chaque canal Y,Cb,Cr contenant les coefficients de la DCT et calcule une matrice repr ́esentant l’image en RGB."
   ]
  },
  {
   "cell_type": "code",
   "execution_count": null,
   "metadata": {},
   "outputs": [],
   "source": []
  },
  {
   "cell_type": "markdown",
   "metadata": {},
   "source": [
    "QUESTION 14 : E ́crire une fonction qui lit un fichier SJPG et qui cr ́e ́e les listes de blocs d ́ecrites par le fichier."
   ]
  },
  {
   "cell_type": "code",
   "execution_count": null,
   "metadata": {},
   "outputs": [],
   "source": []
  },
  {
   "cell_type": "markdown",
   "metadata": {},
   "source": [
    "## Optimisations"
   ]
  },
  {
   "cell_type": "markdown",
   "metadata": {},
   "source": [
    "QUESTION 15 :  Impl ́ementer une fonction qui r ́ealise la compression en mode 3. La d ́ecompression ne change pas."
   ]
  },
  {
   "cell_type": "code",
   "execution_count": null,
   "metadata": {},
   "outputs": [],
   "source": []
  },
  {
   "cell_type": "markdown",
   "metadata": {},
   "source": [
    "QUESTION 16 : Impl ́ementer la compression et la d ́ecompression par le mode 4. L’ ́ecriture dans un fichier ne change pas."
   ]
  },
  {
   "cell_type": "code",
   "execution_count": null,
   "metadata": {},
   "outputs": [],
   "source": []
  },
  {
   "cell_type": "markdown",
   "metadata": {},
   "source": [
    "QUESTION 17 : E ́crire et lire les coefficients dans le fichier en suivant l’ordre en zig-zag."
   ]
  },
  {
   "cell_type": "code",
   "execution_count": null,
   "metadata": {},
   "outputs": [],
   "source": []
  },
  {
   "attachments": {},
   "cell_type": "markdown",
   "metadata": {},
   "source": [
    "## Tests "
   ]
  },
  {
   "cell_type": "code",
   "execution_count": 4,
   "metadata": {},
   "outputs": [],
   "source": [
    "\n",
    "test = load(\"test1.png\")\n",
    "Image.fromarray(test,'RGB').show()"
   ]
  },
  {
   "cell_type": "code",
   "execution_count": 8,
   "metadata": {},
   "outputs": [],
   "source": [
    "imgycbcr= YCbCr(test)\n",
    "Image.fromarray(imgycbcr, 'YCbCr').show()"
   ]
  },
  {
   "cell_type": "code",
   "execution_count": 9,
   "metadata": {},
   "outputs": [],
   "source": [
    "imgRGB= RGB(imgycbcr)\n",
    "Image.fromarray(imgRGB, 'RGB').show()\n",
    "#plt.imshow(imgRGB)\n",
    "#plt.show()"
   ]
  },
  {
   "cell_type": "code",
   "execution_count": 37,
   "metadata": {},
   "outputs": [
    {
     "ename": "ValueError",
     "evalue": "assignment destination is read-only",
     "output_type": "error",
     "traceback": [
      "\u001b[0;31m---------------------------------------------------------------------------\u001b[0m",
      "\u001b[0;31mValueError\u001b[0m                                Traceback (most recent call last)",
      "\u001b[1;32m/Users/charlenezetlaoui/Documents/INFO202/projet_IN202/projet.ipynb Cellule 47\u001b[0m in \u001b[0;36m<cell line: 2>\u001b[0;34m()\u001b[0m\n\u001b[1;32m      <a href='vscode-notebook-cell:/Users/charlenezetlaoui/Documents/INFO202/projet_IN202/projet.ipynb#X64sZmlsZQ%3D%3D?line=0'>1</a>\u001b[0m blanc \u001b[39m=\u001b[39m load(\u001b[39m\"\u001b[39m\u001b[39mimageblanc.png\u001b[39m\u001b[39m\"\u001b[39m)\n\u001b[0;32m----> <a href='vscode-notebook-cell:/Users/charlenezetlaoui/Documents/INFO202/projet_IN202/projet.ipynb#X64sZmlsZQ%3D%3D?line=1'>2</a>\u001b[0m imgpadding \u001b[39m=\u001b[39m padding(blanc)\n\u001b[1;32m      <a href='vscode-notebook-cell:/Users/charlenezetlaoui/Documents/INFO202/projet_IN202/projet.ipynb#X64sZmlsZQ%3D%3D?line=2'>3</a>\u001b[0m Image\u001b[39m.\u001b[39mfromarray(imgpadding, \u001b[39m'\u001b[39m\u001b[39mRGB\u001b[39m\u001b[39m'\u001b[39m)\u001b[39m.\u001b[39mshow()\n",
      "\u001b[1;32m/Users/charlenezetlaoui/Documents/INFO202/projet_IN202/projet.ipynb Cellule 47\u001b[0m in \u001b[0;36mpadding\u001b[0;34m(mat)\u001b[0m\n\u001b[1;32m      <a href='vscode-notebook-cell:/Users/charlenezetlaoui/Documents/INFO202/projet_IN202/projet.ipynb#X64sZmlsZQ%3D%3D?line=3'>4</a>\u001b[0m     \u001b[39mfor\u001b[39;00m i \u001b[39min\u001b[39;00m \u001b[39mrange\u001b[39m (mat\u001b[39m.\u001b[39mshape[\u001b[39m0\u001b[39m]):\n\u001b[1;32m      <a href='vscode-notebook-cell:/Users/charlenezetlaoui/Documents/INFO202/projet_IN202/projet.ipynb#X64sZmlsZQ%3D%3D?line=4'>5</a>\u001b[0m         \u001b[39mfor\u001b[39;00m j \u001b[39min\u001b[39;00m \u001b[39mrange\u001b[39m (mat\u001b[39m.\u001b[39mshape[\u001b[39m1\u001b[39m]):\n\u001b[0;32m----> <a href='vscode-notebook-cell:/Users/charlenezetlaoui/Documents/INFO202/projet_IN202/projet.ipynb#X64sZmlsZQ%3D%3D?line=5'>6</a>\u001b[0m             mat[i][j]\u001b[39m=\u001b[39m(\u001b[39m0\u001b[39m,\u001b[39m0\u001b[39m,\u001b[39m0\u001b[39m)\n\u001b[1;32m      <a href='vscode-notebook-cell:/Users/charlenezetlaoui/Documents/INFO202/projet_IN202/projet.ipynb#X64sZmlsZQ%3D%3D?line=6'>7</a>\u001b[0m \u001b[39mif\u001b[39;00m mat\u001b[39m.\u001b[39mshape[\u001b[39m1\u001b[39m] \u001b[39m%\u001b[39m \u001b[39m8\u001b[39m \u001b[39m!=\u001b[39m \u001b[39m0\u001b[39m:\n\u001b[1;32m      <a href='vscode-notebook-cell:/Users/charlenezetlaoui/Documents/INFO202/projet_IN202/projet.ipynb#X64sZmlsZQ%3D%3D?line=7'>8</a>\u001b[0m     k \u001b[39m=\u001b[39m (mat\u001b[39m.\u001b[39mshape[\u001b[39m1\u001b[39m]\u001b[39m/\u001b[39m\u001b[39m/\u001b[39m\u001b[39m8\u001b[39m\u001b[39m+\u001b[39m\u001b[39m1\u001b[39m \u001b[39m*\u001b[39m \u001b[39m8\u001b[39m)\n",
      "\u001b[0;31mValueError\u001b[0m: assignment destination is read-only"
     ]
    }
   ],
   "source": [
    "blanc = load(\"imageblanc.png\")\n",
    "imgpadding = padding(blanc)\n",
    "Image.fromarray(imgpadding, 'RGB').show()"
   ]
  },
  {
   "cell_type": "code",
   "execution_count": 45,
   "metadata": {},
   "outputs": [
    {
     "name": "stderr",
     "output_type": "stream",
     "text": [
      "/var/folders/83/75fk3cwd5vvb1brl5wypd1dc0000gn/T/ipykernel_53572/3695543901.py:5: RuntimeWarning: overflow encountered in ubyte_scalars\n",
      "  mat_reduite[i,j,1] = (mat[i,2*j,1] + mat[i,2*j+1,1])//2\n",
      "/var/folders/83/75fk3cwd5vvb1brl5wypd1dc0000gn/T/ipykernel_53572/3695543901.py:6: RuntimeWarning: overflow encountered in ubyte_scalars\n",
      "  mat_reduite[i,j,2] = (mat[i,2*j,2] + mat[i,2*j+1,2])//2\n"
     ]
    }
   ],
   "source": [
    "imgreduite  = petite_mat(test)\n",
    "Image.fromarray(imgreduite, 'RGB').show()"
   ]
  },
  {
   "cell_type": "code",
   "execution_count": null,
   "metadata": {},
   "outputs": [],
   "source": []
  }
 ],
 "metadata": {
  "kernelspec": {
   "display_name": "Python 3.9.5 64-bit",
   "language": "python",
   "name": "python3"
  },
  "language_info": {
   "codemirror_mode": {
    "name": "ipython",
    "version": 3
   },
   "file_extension": ".py",
   "mimetype": "text/x-python",
   "name": "python",
   "nbconvert_exporter": "python",
   "pygments_lexer": "ipython3",
   "version": "3.9.5"
  },
  "orig_nbformat": 4,
  "vscode": {
   "interpreter": {
    "hash": "aee8b7b246df8f9039afb4144a1f6fd8d2ca17a180786b69acc140d282b71a49"
   }
  }
 },
 "nbformat": 4,
 "nbformat_minor": 2
}
