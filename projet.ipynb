{
 "cells": [
  {
   "attachments": {},
   "cell_type": "markdown",
   "metadata": {},
   "source": [
    "## Outils pour la manipulation d'images et librairies.\n"
   ]
  },
  {
   "cell_type": "code",
   "execution_count": 70,
   "metadata": {},
   "outputs": [],
   "source": [
    "import PIL as pil\n",
    "from PIL import Image, ImageTk\n",
    "import numpy as np\n",
    "import scipy as sp\n",
    "import tkinter as tk\n",
    "from tkinter import filedialog, simpledialog\n",
    "import os\n",
    "import random\n",
    "from math import log10, sqrt\n",
    "\n",
    "def load(filename):\n",
    "    toLoad= Image.open(filename)\n",
    "    return np.asarray(toLoad)\n",
    "\n",
    "\n",
    "def psnr(original, compressed):\n",
    "    mse = np.mean((original - compressed) ** 2)\n",
    "    max_pixel = 255.0\n",
    "    psnr = 20 * log10(max_pixel / sqrt(mse))\n",
    "    return psnr\n",
    "\n",
    "def dct2(a):\n",
    "    return sp.fft.dct( sp.fft.dct( a, axis=0, norm='ortho' ), axis=1, norm='ortho' )\n",
    "\n",
    "def idct2(a):\n",
    "    return sp.fft.idct( sp.fft.idct( a, axis=0 , norm='ortho'), axis=1 , norm='ortho')\n",
    "\n",
    "nomImg=\"\"\n"
   ]
  },
  {
   "attachments": {},
   "cell_type": "markdown",
   "metadata": {},
   "source": [
    "## Normalisation de l'image (YCbCr et padding)"
   ]
  },
  {
   "cell_type": "markdown",
   "metadata": {},
   "source": [
    "QUESTION 1 : \n",
    "Donner le code qui transforme une image RGB en une image YCbCr. Vous pourrez produire une matrice pour chaque composante, pour pouvoir plus facilement les manipuler ind ́ependamment. Vous pouvez stocker les donn ́ees YCbCr comme des entiers ou des flottants, mais vous expliquerez votre choix."
   ]
  },
  {
   "cell_type": "code",
   "execution_count": 71,
   "metadata": {},
   "outputs": [],
   "source": [
    "def YCbCr(mat):\n",
    "    matYCbCr=np.empty((mat.shape[0],mat.shape[1],3),dtype=np.float64)\n",
    "\n",
    "    for i in range(matYCbCr.shape[0]):\n",
    "        for j in range(matYCbCr.shape[1]):\n",
    "            matYCbCr[i,j,0] = 0.299 * mat[i,j,0] + 0.587 * mat[i,j,1] + 0.114 * mat[i,j,2]\n",
    "            \n",
    "            matYCbCr[i,j,1] = - 0.1687 * mat[i,j,0] - 0.3313 * mat[i,j,1] + 0.5 * mat[i,j,2] + 128\n",
    "\n",
    "            matYCbCr[i,j,2] = 0.5 * mat[i,j,0] - 0.4187 * mat[i,j,1] - 0.0813 * mat[i,j,2] + 128\n",
    "            \n",
    "    return matYCbCr"
   ]
  },
  {
   "cell_type": "markdown",
   "metadata": {},
   "source": [
    "QUESTION 2 : Donner le code qui transforme une image YCbCr en une image RGB. Attention, les valeurs des canaux RGB doivent ˆetre un entier dans [0, 255] qui pourra ˆetre cod ́e sur un octet. Appliquer successivement la transformation RGB vers YCbCr puis YCbCr vers RGB et v ́erifier que vous obtenez l’image de d ́epart. Vous consulterez la documentation des fonctions de numpy clip, uint8 et mask qui pourraient vous ˆetre utiles."
   ]
  },
  {
   "cell_type": "code",
   "execution_count": 72,
   "metadata": {},
   "outputs": [],
   "source": [
    "def RGB(mat):\n",
    "    matRGB=np.empty([mat.shape[0],mat.shape[1],3],dtype=np.uint8)\n",
    "\n",
    "    for i in range(matRGB.shape[0]):\n",
    "        for j in range(matRGB.shape[1]): \n",
    "            \n",
    "            y = mat[i,j,0]\n",
    "            cb = mat[i,j,1]\n",
    "            cr = mat[i,j,2]\n",
    "            \n",
    "            r = y + 1.402 * (cr - 128) \n",
    "            g = y - 0.34414 * (cb - 128) - 0.71414 * (cr - 128)\n",
    "            b = y + 1.772 * (cb - 128)\n",
    "            \n",
    "            matRGB[i,j,0] = int(r)\n",
    "            \n",
    "            matRGB[i,j,1] = int(g)\n",
    "            \n",
    "            matRGB[i,j,2] = int(b)\n",
    "             \n",
    "    return matRGB"
   ]
  },
  {
   "cell_type": "code",
   "execution_count": 73,
   "metadata": {},
   "outputs": [
    {
     "name": "stdout",
     "output_type": "stream",
     "text": [
      "63.79010503046213\n"
     ]
    }
   ],
   "source": [
    "test = load(\"test1.png\")\n",
    "compresse = YCbCr(test)\n",
    "nouveau = RGB(compresse)\n",
    "print(psnr(test, nouveau))"
   ]
  },
  {
   "cell_type": "markdown",
   "metadata": {},
   "source": [
    "QUESTION 3 : \n",
    "Pour pouvoir traiter une image, nous avons besoin que ses dimensions soient des multiples de 8. Pour le garantir, il faut faire du remplissage (padding), c’est `a dire qu’on va ajouter des lignes et des colonnes de pixel noirs en bas et `a droite de l’image. Si on a une image de dimension 15×21, on obtiendra une image de dimension 16 × 24 avec une ligne suppl ́ementaire et trois colonnes suppl ́ementaires. Donner la fonction qui r ́ealise ce padding ainsi que celle qui l’ ́elimine et v ́erifier que l’application de ces deux transformations laissent l’image inchang ́ee."
   ]
  },
  {
   "cell_type": "code",
   "execution_count": 74,
   "metadata": {},
   "outputs": [],
   "source": [
    "def padding(mat):\n",
    "    l = mat.shape[0]\n",
    "    c = mat.shape[1]\n",
    "    while l % 8 != 0:\n",
    "        l += 1\n",
    "    while c % 8 !=0:\n",
    "        c += 1\n",
    "    mat_pad= np.zeros((l, c, 3), dtype=np.uint8)\n",
    "    mat_pad[:mat.shape[0],:mat.shape[1]]=mat\n",
    "    return mat_pad\n",
    "    \n",
    "def elimine_padding(mat):\n",
    "    l_pad, c_pad, d = mat.shape\n",
    "    l = l_pad\n",
    "    c = c_pad\n",
    "    while l % 8 != 0:\n",
    "        l -= 1\n",
    "    while c % 8 != 0:\n",
    "        c -=1\n",
    "    mat_sans_padding=np.empty((l,c,3),dtype=np.uint8)\n",
    "    for i in range(l):\n",
    "        for j in range(c):\n",
    "            mat_sans_padding[i,j] = mat[i,j]\n",
    "    return mat_sans_padding"
   ]
  },
  {
   "cell_type": "markdown",
   "metadata": {},
   "source": [
    "QUESTION 4 : L’oeil est moins sensible aux informations de chrominance que de luminance. Pour exploiter cela, nous allons r ́eduire la quantit ́e d’information des canaux Cb et Cr en leur appliquant un sous- ́echantillonnage. Il s’agit de remplacer deux pixels adjacents par la moyenne des deux pixels. Impl ́ementer la fonction qui sous- ́echantillonne une matrice et renvoie une matrice deux fois plus petite."
   ]
  },
  {
   "cell_type": "code",
   "execution_count": 75,
   "metadata": {},
   "outputs": [],
   "source": [
    "def petite_mat(mat):\n",
    "    mat_reduite=np.empty([mat.shape[0], mat.shape[1]//2,3],dtype=np.uint8)\n",
    "    for i in range(0,mat_reduite.shape[0]):\n",
    "        for j in range(0,mat_reduite.shape[1]):\n",
    "            mat_reduite[i,j,1] = (mat[i,2*j,1] + mat[i,2*j+1,1])//2\n",
    "            mat_reduite[i,j,2] = (mat[i,2*j,2] + mat[i,2*j+1,2])//2\n",
    "    return mat_reduite\n"
   ]
  },
  {
   "cell_type": "markdown",
   "metadata": {},
   "source": [
    "QUESTION 5 : Impl ́ementer la fonction qui multiplie par deux la deuxi`eme dimension d’une matrice. Tester `a la suite le sous- ́echantillonnage et cette fonction, vous devez retrouver une image presque identique `a celle de d ́epart."
   ]
  },
  {
   "cell_type": "code",
   "execution_count": 76,
   "metadata": {},
   "outputs": [],
   "source": [
    "def matrice_doublee(mat):\n",
    "    mat_doublee =np.empty([(mat.shape[0]), mat.shape[1]*2, 3], dtype=np.uint8)\n",
    "    for i in range(mat.shape[0]):\n",
    "        for j in range(mat.shape[1]):\n",
    "            mat_doublee[i,j*2], mat[i,j*2+1] =(mat[i,j]), (mat[i,j])\n",
    "    return mat_doublee"
   ]
  },
  {
   "attachments": {},
   "cell_type": "markdown",
   "metadata": {},
   "source": [
    "## Découpage en blocs et compression"
   ]
  },
  {
   "cell_type": "markdown",
   "metadata": {},
   "source": [
    "QUESTION 6 : Soit une matrice dont les deux dimensions sont divisibles par 8. Donner une fonction qui d ́ecoupe cette matrice en blocs 8 × 8 et les stocke dans une liste. L’ordre des blocs correspond `a l’ordre de lecture d’une image."
   ]
  },
  {
   "cell_type": "code",
   "execution_count": 77,
   "metadata": {},
   "outputs": [],
   "source": [
    "def blocs(mat):\n",
    "    liste_blocs =[]\n",
    "    \n",
    "    for i in range(0,mat.shape[0],8):\n",
    "        for j in range(0,mat.shape[1],8):\n",
    "            bloc = mat[i:i+8, j:j+8]\n",
    "            liste_blocs.append(bloc)\n",
    "           \n",
    "    return liste_blocs"
   ]
  },
  {
   "cell_type": "markdown",
   "metadata": {},
   "source": [
    "QUESTION 7 : Les blocs sont d’abord transform ́es en leur repr ́esentation par fr ́equence en utilisant une transform ́ee en cosinus discr`ete. Dans le fichier source projet.ipynb, les fonctions dct2(a) et idct2(a) vous sont fournies. La fonction dct2 donne la repr ́esentation en fr ́equence d’une matrice carr ́ee (qui est une matrice carr ́ee de la mˆeme dimension) et la fonction idct2 calcule la fonction inverse. Donner une fonction qui applique la transform ́ee `a chaque bloc d’une liste."
   ]
  },
  {
   "cell_type": "code",
   "execution_count": 78,
   "metadata": {},
   "outputs": [],
   "source": [
    "def transformee(blocs):\n",
    "    blocs_transformes = []\n",
    "    for i in range(len(blocs)):\n",
    "        blocs_transformes.append(dct2(blocs[i]))\n",
    "    return blocs_transformes\n",
    "\n",
    "def detransformation(blocs):\n",
    "    blocs_detransformes = []\n",
    "    for i in range(len(blocs)):\n",
    "        blocs_detransformes.append(idct2(blocs[i]))\n",
    "    return blocs_detransformes"
   ]
  },
  {
   "cell_type": "markdown",
   "metadata": {},
   "source": [
    "QUESTION 8 : Vous allez impl ́ementer plusieurs modes de compression. Dans le mode 0, on garde les blocs transform ́es tels quels.\n",
    "Dans le mode 1, on impose un seuil aux coefficients. Il s’agit de remplacer tous le coefficients plus petit que ce seuil par 0. Vous choisirez un seuil qui permet de supprimer beaucoup de coefficients sans trop d ́egrader l’image. Impl ́ementez le filtrage des coefficients des blocs selon un seuil donn ́e en argument."
   ]
  },
  {
   "cell_type": "code",
   "execution_count": 79,
   "metadata": {},
   "outputs": [],
   "source": [
    "def filtrage(blocs,seuil):\n",
    "    blocs_filtres = []\n",
    "    for i in range(len(blocs)):\n",
    "        if blocs[i] < seuil :\n",
    "            blocs[i] = 0"
   ]
  },
  {
   "cell_type": "markdown",
   "metadata": {},
   "source": [
    "QUESTION 9 : Dans le mode 2, en plus du filtrage a` seuil, vous appliquerez le sous- ́echantillonnage a` la chrominance (Cb\n",
    "et Cr). Donner une fonction qui est capable, `a partir d’une image RGB, de cr ́eer les listes de blocs compress ́es dans les 3 modes."
   ]
  },
  {
   "cell_type": "code",
   "execution_count": 94,
   "metadata": {},
   "outputs": [],
   "source": [
    "def blocs_compresses(image, mode):\n",
    "    im = YCbCr(padding(image.all()))\n",
    "    if mode.all() == 0:\n",
    "        f = transformee(blocs(im))\n",
    "    elif mode.all() == 1:\n",
    "        f = filtrage(transformee(blocs(im)),100)\n",
    "    elif mode.all() == 2:\n",
    "        f = petite_mat(filtrage(transformee(blocs(im)),100))\n",
    "    return f"
   ]
  },
  {
   "attachments": {},
   "cell_type": "markdown",
   "metadata": {},
   "source": [
    "## Écriture dans un fichier"
   ]
  },
  {
   "cell_type": "markdown",
   "metadata": {},
   "source": [
    "QUESTION  10 : Pour simplifier cette partie, nous allons  ́ecrire l’information sous forme de texte. Pour ouvrir un fichier en mode  ́ecriture, vous pouvez faire f = open(path, ”w”). Ensuite pour  ́ecrire une ligne vous pouvez faire f.write(”maligne\\n”). Si vous avez une variable num ́erique k, pour obtenir la chaˆıne de caract`eres repr ́esentant cette valeur, il suffit de faire str(k).\n",
    "Les trois questions suivantes d ́etaillent les diff ́erentes parties de votre fonction d’ ́ecriture dans un fichier. Attention `a respecter scrupuleusement les instructions, autrement nous ne pourrons pas lire les fichiers que vous aller produire. Pour commencer, vous  ́ecrirez quatres lignes contenant les informations de votre image. La premi`ere ligne contiendra le type du fichier : “SJPG”. La deuxi`eme ligne contiendra les dimensions de l’image dans l’ordre hauteur puis largeur, s ́epar ́ees par un espace, par exemple “200 300”. La troisi`eme ligne contiendra le mode de compression, par exemple “mode 1”. La quatri`eme ligne contiendra “RLE” si vous utilisez un run length encoding, ou “NORLE” sinon."
   ]
  },
  {
   "cell_type": "code",
   "execution_count": 96,
   "metadata": {},
   "outputs": [
    {
     "ename": "IndexError",
     "evalue": "tuple index out of range",
     "output_type": "error",
     "traceback": [
      "\u001b[0;31m---------------------------------------------------------------------------\u001b[0m",
      "\u001b[0;31mIndexError\u001b[0m                                Traceback (most recent call last)",
      "Cell \u001b[0;32mIn [96], line 2\u001b[0m\n\u001b[1;32m      1\u001b[0m mat \u001b[38;5;241m=\u001b[39m load(\u001b[38;5;124m\"\u001b[39m\u001b[38;5;124mtest1.png\u001b[39m\u001b[38;5;124m\"\u001b[39m)\n\u001b[0;32m----> 2\u001b[0m \u001b[43mblocs_compresses\u001b[49m\u001b[43m(\u001b[49m\u001b[43mmat\u001b[49m\u001b[43m,\u001b[49m\u001b[38;5;241;43m2\u001b[39;49m\u001b[43m)\u001b[49m\n\u001b[1;32m      4\u001b[0m f \u001b[38;5;241m=\u001b[39m \u001b[38;5;28mopen\u001b[39m(\u001b[38;5;124m'\u001b[39m\u001b[38;5;124mf\u001b[39m\u001b[38;5;124m'\u001b[39m,\u001b[38;5;124m'\u001b[39m\u001b[38;5;124mw\u001b[39m\u001b[38;5;124m'\u001b[39m)\n\u001b[1;32m      6\u001b[0m f\u001b[38;5;241m.\u001b[39mwrite(\u001b[38;5;124m'\u001b[39m\u001b[38;5;124mSJPG\u001b[39m\u001b[38;5;130;01m\\n\u001b[39;00m\u001b[38;5;124m'\u001b[39m)\n",
      "Cell \u001b[0;32mIn [94], line 2\u001b[0m, in \u001b[0;36mblocs_compresses\u001b[0;34m(image, mode)\u001b[0m\n\u001b[1;32m      1\u001b[0m \u001b[38;5;28;01mdef\u001b[39;00m \u001b[38;5;21mblocs_compresses\u001b[39m(image, mode):\n\u001b[0;32m----> 2\u001b[0m     im \u001b[38;5;241m=\u001b[39m YCbCr(\u001b[43mpadding\u001b[49m\u001b[43m(\u001b[49m\u001b[43mimage\u001b[49m\u001b[38;5;241;43m.\u001b[39;49m\u001b[43mall\u001b[49m\u001b[43m(\u001b[49m\u001b[43m)\u001b[49m\u001b[43m)\u001b[49m)\n\u001b[1;32m      3\u001b[0m     \u001b[38;5;28;01mif\u001b[39;00m mode\u001b[38;5;241m.\u001b[39mall() \u001b[38;5;241m==\u001b[39m \u001b[38;5;241m0\u001b[39m:\n\u001b[1;32m      4\u001b[0m         f \u001b[38;5;241m=\u001b[39m transformee(blocs(im))\n",
      "Cell \u001b[0;32mIn [74], line 2\u001b[0m, in \u001b[0;36mpadding\u001b[0;34m(mat)\u001b[0m\n\u001b[1;32m      1\u001b[0m \u001b[38;5;28;01mdef\u001b[39;00m \u001b[38;5;21mpadding\u001b[39m(mat):\n\u001b[0;32m----> 2\u001b[0m     l \u001b[38;5;241m=\u001b[39m \u001b[43mmat\u001b[49m\u001b[38;5;241;43m.\u001b[39;49m\u001b[43mshape\u001b[49m\u001b[43m[\u001b[49m\u001b[38;5;241;43m0\u001b[39;49m\u001b[43m]\u001b[49m\n\u001b[1;32m      3\u001b[0m     c \u001b[38;5;241m=\u001b[39m mat\u001b[38;5;241m.\u001b[39mshape[\u001b[38;5;241m1\u001b[39m]\n\u001b[1;32m      4\u001b[0m     \u001b[38;5;28;01mwhile\u001b[39;00m l \u001b[38;5;241m%\u001b[39m \u001b[38;5;241m8\u001b[39m \u001b[38;5;241m!=\u001b[39m \u001b[38;5;241m0\u001b[39m:\n",
      "\u001b[0;31mIndexError\u001b[0m: tuple index out of range"
     ]
    }
   ],
   "source": [
    "mat = load(\"test1.png\")\n",
    "blocs_compresses(mat,2)\n",
    "\n",
    "f = open('f','w')\n",
    "\n",
    "f.write('SJPG\\n')\n",
    "f.write(str(mat.shape[0]))\n",
    "f.write(' ')\n",
    "f.write(str(mat.shape[1]))\n",
    "\n",
    "f.write('\\nmode 2')\n",
    "f.write('\\nNORLE')\n",
    "\n",
    "f.close()"
   ]
  },
  {
   "cell_type": "markdown",
   "metadata": {},
   "source": [
    "QUESTION 11 : Vous  ́ecrirez ensuite le contenu des blocs, d’abord ceux de Y, puis ceux de Cb puis ceux de Cr. Chaque bloc est  ́ecrit sur une ligne, les valeurs  ́etant des entiers s ́epar ́es par de espaces."
   ]
  },
  {
   "cell_type": "code",
   "execution_count": 98,
   "metadata": {},
   "outputs": [
    {
     "ename": "IndexError",
     "evalue": "tuple index out of range",
     "output_type": "error",
     "traceback": [
      "\u001b[0;31m---------------------------------------------------------------------------\u001b[0m",
      "\u001b[0;31mIndexError\u001b[0m                                Traceback (most recent call last)",
      "Cell \u001b[0;32mIn [98], line 2\u001b[0m\n\u001b[1;32m      1\u001b[0m mat \u001b[38;5;241m=\u001b[39m load(\u001b[38;5;124m\"\u001b[39m\u001b[38;5;124mtest1.png\u001b[39m\u001b[38;5;124m\"\u001b[39m)\n\u001b[0;32m----> 2\u001b[0m l \u001b[38;5;241m=\u001b[39m \u001b[43mblocs_compresses\u001b[49m\u001b[43m(\u001b[49m\u001b[43mmat\u001b[49m\u001b[43m,\u001b[49m\u001b[38;5;241;43m2\u001b[39;49m\u001b[43m)\u001b[49m\n\u001b[1;32m      4\u001b[0m y \u001b[38;5;241m=\u001b[39m[]\n\u001b[1;32m      5\u001b[0m cb \u001b[38;5;241m=\u001b[39m []\n",
      "Cell \u001b[0;32mIn [94], line 2\u001b[0m, in \u001b[0;36mblocs_compresses\u001b[0;34m(image, mode)\u001b[0m\n\u001b[1;32m      1\u001b[0m \u001b[38;5;28;01mdef\u001b[39;00m \u001b[38;5;21mblocs_compresses\u001b[39m(image, mode):\n\u001b[0;32m----> 2\u001b[0m     im \u001b[38;5;241m=\u001b[39m YCbCr(\u001b[43mpadding\u001b[49m\u001b[43m(\u001b[49m\u001b[43mimage\u001b[49m\u001b[38;5;241;43m.\u001b[39;49m\u001b[43mall\u001b[49m\u001b[43m(\u001b[49m\u001b[43m)\u001b[49m\u001b[43m)\u001b[49m)\n\u001b[1;32m      3\u001b[0m     \u001b[38;5;28;01mif\u001b[39;00m mode\u001b[38;5;241m.\u001b[39mall() \u001b[38;5;241m==\u001b[39m \u001b[38;5;241m0\u001b[39m:\n\u001b[1;32m      4\u001b[0m         f \u001b[38;5;241m=\u001b[39m transformee(blocs(im))\n",
      "Cell \u001b[0;32mIn [74], line 2\u001b[0m, in \u001b[0;36mpadding\u001b[0;34m(mat)\u001b[0m\n\u001b[1;32m      1\u001b[0m \u001b[38;5;28;01mdef\u001b[39;00m \u001b[38;5;21mpadding\u001b[39m(mat):\n\u001b[0;32m----> 2\u001b[0m     l \u001b[38;5;241m=\u001b[39m \u001b[43mmat\u001b[49m\u001b[38;5;241;43m.\u001b[39;49m\u001b[43mshape\u001b[49m\u001b[43m[\u001b[49m\u001b[38;5;241;43m0\u001b[39;49m\u001b[43m]\u001b[49m\n\u001b[1;32m      3\u001b[0m     c \u001b[38;5;241m=\u001b[39m mat\u001b[38;5;241m.\u001b[39mshape[\u001b[38;5;241m1\u001b[39m]\n\u001b[1;32m      4\u001b[0m     \u001b[38;5;28;01mwhile\u001b[39;00m l \u001b[38;5;241m%\u001b[39m \u001b[38;5;241m8\u001b[39m \u001b[38;5;241m!=\u001b[39m \u001b[38;5;241m0\u001b[39m:\n",
      "\u001b[0;31mIndexError\u001b[0m: tuple index out of range"
     ]
    }
   ],
   "source": [
    "mat = load(\"test1.png\")\n",
    "l = blocs_compresses(mat,2)\n",
    "\n",
    "y =[]\n",
    "cb = []\n",
    "cr = []\n",
    "\n",
    "for i in range(l):\n",
    "    y.append(int(l[i][0]), ' ')\n",
    "    cb.append(int(l[i][1]), ' ')\n",
    "    cr.append(int(l[i][2]), ' ')\n",
    "    \n",
    "\n",
    "f = open('f', 'a')\n",
    "f.write(str(y)) \n",
    "f.write('\\n')\n",
    "f.write(str(cb)) \n",
    "f.write('\\n')\n",
    "f.write(str(cr)) \n",
    "f.write('\\n')\n",
    "f.close()"
   ]
  },
  {
   "cell_type": "markdown",
   "metadata": {},
   "source": [
    "QUESTION 12 : Pour am ́eliorer la compression, nous allons utiliser le run length encoding (RLE). Il s’agit d’une m ́ethode similaire au code LZW, mais bien plus simple. Quand un caract`ere est r ́ep ́et ́e plusieurs fois de suite, on va  ́ecrire le caract`ere et son nombre de r ́ep ́etitions. Ici se sont les z ́eros qui sont r ́ep ́et ́es de nombreuses fois, donc on appliquera ce code uniquement aux z ́eros. A` la place de k z ́eros cons ́ecutifs, on  ́ecrira “♯k” ou k est un entier. Ajouter une option `a votre fonction d’ ́ecriture pour qu’elle puisse  ́ecrire les blocs en appliquant le codage RLE."
   ]
  },
  {
   "cell_type": "code",
   "execution_count": 102,
   "metadata": {},
   "outputs": [
    {
     "ename": "KeyboardInterrupt",
     "evalue": "",
     "output_type": "error",
     "traceback": [
      "\u001b[0;31m---------------------------------------------------------------------------\u001b[0m",
      "\u001b[0;31mKeyboardInterrupt\u001b[0m                         Traceback (most recent call last)",
      "Cell \u001b[0;32mIn [102], line 17\u001b[0m\n\u001b[1;32m     14\u001b[0m         i \u001b[38;5;241m+\u001b[39m\u001b[38;5;241m=\u001b[39m \u001b[38;5;241m1\u001b[39m\n\u001b[1;32m     15\u001b[0m     \u001b[38;5;28;01mreturn\u001b[39;00m texte_rle\n\u001b[0;32m---> 17\u001b[0m \u001b[43mrle\u001b[49m\u001b[43m(\u001b[49m\u001b[38;5;124;43m'\u001b[39;49m\u001b[38;5;124;43m123005000067300000202\u001b[39;49m\u001b[38;5;124;43m'\u001b[39;49m\u001b[43m)\u001b[49m\n",
      "Cell \u001b[0;32mIn [102], line 12\u001b[0m, in \u001b[0;36mrle\u001b[0;34m(texte)\u001b[0m\n\u001b[1;32m     10\u001b[0m     i \u001b[38;5;241m+\u001b[39m\u001b[38;5;241m=\u001b[39m \u001b[38;5;241m1\u001b[39m\n\u001b[1;32m     11\u001b[0m     \u001b[38;5;28;01mwhile\u001b[39;00m texte[i] \u001b[38;5;241m==\u001b[39m \u001b[38;5;124m'\u001b[39m\u001b[38;5;124m0\u001b[39m\u001b[38;5;124m'\u001b[39m:\n\u001b[0;32m---> 12\u001b[0m         k \u001b[38;5;241m+\u001b[39m\u001b[38;5;241m=\u001b[39m \u001b[38;5;241m1\u001b[39m\n\u001b[1;32m     13\u001b[0m     texte_rle\u001b[38;5;241m.\u001b[39mappend(\u001b[38;5;124m'\u001b[39m\u001b[38;5;124m#\u001b[39m\u001b[38;5;124m'\u001b[39m,k)\n\u001b[1;32m     14\u001b[0m i \u001b[38;5;241m+\u001b[39m\u001b[38;5;241m=\u001b[39m \u001b[38;5;241m1\u001b[39m\n",
      "\u001b[0;31mKeyboardInterrupt\u001b[0m: "
     ]
    }
   ],
   "source": [
    "def rle(texte):\n",
    "    texte_rle = []\n",
    "    i = 0\n",
    "    k = 0\n",
    "\n",
    "    while i < len(texte):\n",
    "        if texte[i] != '0':\n",
    "            texte_rle.append(texte[i])\n",
    "        elif texte[i] == '0' :\n",
    "            i += 1\n",
    "            while texte[i] == '0':\n",
    "                k += 1\n",
    "            texte_rle.append('#',k)\n",
    "        i += 1\n",
    "    return texte_rle"
   ]
  },
  {
   "attachments": {},
   "cell_type": "markdown",
   "metadata": {},
   "source": [
    "## Décompression"
   ]
  },
  {
   "cell_type": "markdown",
   "metadata": {},
   "source": [
    "QUESTION 13 : E ́crire une fonction de d ́ecompression qui prend une liste de blocs pour chaque canal Y,Cb,Cr contenant les coefficients de la DCT et calcule une matrice repr ́esentant l’image en RGB."
   ]
  },
  {
   "cell_type": "code",
   "execution_count": null,
   "metadata": {},
   "outputs": [],
   "source": []
  },
  {
   "cell_type": "markdown",
   "metadata": {},
   "source": [
    "QUESTION 14 : E ́crire une fonction qui lit un fichier SJPG et qui cr ́e ́e les listes de blocs d ́ecrites par le fichier."
   ]
  },
  {
   "cell_type": "code",
   "execution_count": null,
   "metadata": {},
   "outputs": [],
   "source": []
  },
  {
   "cell_type": "markdown",
   "metadata": {},
   "source": [
    "## Optimisations"
   ]
  },
  {
   "cell_type": "markdown",
   "metadata": {},
   "source": [
    "QUESTION 15 :  Impl ́ementer une fonction qui r ́ealise la compression en mode 3. La d ́ecompression ne change pas."
   ]
  },
  {
   "cell_type": "code",
   "execution_count": null,
   "metadata": {},
   "outputs": [],
   "source": []
  },
  {
   "cell_type": "markdown",
   "metadata": {},
   "source": [
    "QUESTION 16 : Impl ́ementer la compression et la d ́ecompression par le mode 4. L’ ́ecriture dans un fichier ne change pas."
   ]
  },
  {
   "cell_type": "code",
   "execution_count": null,
   "metadata": {},
   "outputs": [],
   "source": []
  },
  {
   "cell_type": "markdown",
   "metadata": {},
   "source": [
    "QUESTION 17 : E ́crire et lire les coefficients dans le fichier en suivant l’ordre en zig-zag."
   ]
  },
  {
   "cell_type": "code",
   "execution_count": null,
   "metadata": {},
   "outputs": [],
   "source": []
  },
  {
   "attachments": {},
   "cell_type": "markdown",
   "metadata": {},
   "source": [
    "## Tests "
   ]
  },
  {
   "cell_type": "code",
   "execution_count": 11,
   "metadata": {},
   "outputs": [],
   "source": [
    "test = load(\"test1.png\")\n",
    "Image.fromarray(test,'RGB').show()"
   ]
  },
  {
   "cell_type": "code",
   "execution_count": 12,
   "metadata": {},
   "outputs": [],
   "source": [
    "imgycbcr= YCbCr(test)\n",
    "Image.fromarray(imgycbcr, 'YCbCr').show()"
   ]
  },
  {
   "cell_type": "code",
   "execution_count": 35,
   "metadata": {},
   "outputs": [],
   "source": [
    "imgRGB= RGB(imgycbcr)\n",
    "Image.fromarray(imgRGB, 'RGB').show()\n",
    "#plt.imshow(imgRGB)\n",
    "#plt.show()"
   ]
  },
  {
   "cell_type": "code",
   "execution_count": 44,
   "metadata": {},
   "outputs": [],
   "source": [
    "imgpadding = padding(test)\n",
    "Image.fromarray(imgpadding, 'RGB').show()"
   ]
  },
  {
   "cell_type": "code",
   "execution_count": 47,
   "metadata": {},
   "outputs": [],
   "source": [
    "img_elimine_padding = elimine_padding(imgpadding)\n",
    "Image.fromarray(img_elimine_padding, 'RGB').show()"
   ]
  },
  {
   "cell_type": "code",
   "execution_count": 24,
   "metadata": {},
   "outputs": [
    {
     "name": "stderr",
     "output_type": "stream",
     "text": [
      "/var/folders/5h/h7jwtxf91bb0l13gphz2b65m0000gn/T/ipykernel_87501/3695543901.py:5: RuntimeWarning: overflow encountered in scalar add\n",
      "  mat_reduite[i,j,1] = (mat[i,2*j,1] + mat[i,2*j+1,1])//2\n",
      "/var/folders/5h/h7jwtxf91bb0l13gphz2b65m0000gn/T/ipykernel_87501/3695543901.py:6: RuntimeWarning: overflow encountered in scalar add\n",
      "  mat_reduite[i,j,2] = (mat[i,2*j,2] + mat[i,2*j+1,2])//2\n"
     ]
    }
   ],
   "source": [
    "imgreduite  = petite_mat(test)\n",
    "Image.fromarray(imgreduite, 'YCbCr').show()"
   ]
  },
  {
   "cell_type": "code",
   "execution_count": 48,
   "metadata": {},
   "outputs": [
    {
     "ename": "IndexError",
     "evalue": "index 311 is out of bounds for axis 1 with size 310",
     "output_type": "error",
     "traceback": [
      "\u001b[0;31m---------------------------------------------------------------------------\u001b[0m",
      "\u001b[0;31mIndexError\u001b[0m                                Traceback (most recent call last)",
      "Cell \u001b[0;32mIn [48], line 1\u001b[0m\n\u001b[0;32m----> 1\u001b[0m imgdoublee \u001b[38;5;241m=\u001b[39m \u001b[43mmatrice_doublee\u001b[49m\u001b[43m(\u001b[49m\u001b[43mimgreduite\u001b[49m\u001b[43m)\u001b[49m\n\u001b[1;32m      2\u001b[0m Image\u001b[38;5;241m.\u001b[39mfromarray(imgdoublee, \u001b[38;5;124m'\u001b[39m\u001b[38;5;124mYCbCr\u001b[39m\u001b[38;5;124m'\u001b[39m)\u001b[38;5;241m.\u001b[39mshow()\n",
      "Cell \u001b[0;32mIn [19], line 5\u001b[0m, in \u001b[0;36mmatrice_doublee\u001b[0;34m(mat)\u001b[0m\n\u001b[1;32m      3\u001b[0m \u001b[38;5;28;01mfor\u001b[39;00m i \u001b[38;5;129;01min\u001b[39;00m \u001b[38;5;28mrange\u001b[39m(mat\u001b[38;5;241m.\u001b[39mshape[\u001b[38;5;241m0\u001b[39m]):\n\u001b[1;32m      4\u001b[0m     \u001b[38;5;28;01mfor\u001b[39;00m j \u001b[38;5;129;01min\u001b[39;00m \u001b[38;5;28mrange\u001b[39m(mat\u001b[38;5;241m.\u001b[39mshape[\u001b[38;5;241m1\u001b[39m]):\n\u001b[0;32m----> 5\u001b[0m         mat_doublee[i,j\u001b[38;5;241m*\u001b[39m\u001b[38;5;241m2\u001b[39m], mat[i,j\u001b[38;5;241m*\u001b[39m\u001b[38;5;241m2\u001b[39m\u001b[38;5;241m+\u001b[39m\u001b[38;5;241m1\u001b[39m] \u001b[38;5;241m=\u001b[39m(mat[i,j]), (mat[i,j])\n\u001b[1;32m      6\u001b[0m \u001b[38;5;28;01mreturn\u001b[39;00m mat_doublee\n",
      "\u001b[0;31mIndexError\u001b[0m: index 311 is out of bounds for axis 1 with size 310"
     ]
    }
   ],
   "source": [
    "imgdoublee = matrice_doublee(imgreduite)\n",
    "Image.fromarray(imgdoublee, 'YCbCr').show()"
   ]
  },
  {
   "cell_type": "code",
   "execution_count": 54,
   "metadata": {},
   "outputs": [
    {
     "name": "stdout",
     "output_type": "stream",
     "text": [
      "None\n"
     ]
    }
   ],
   "source": [
    "liste_blocs = transformee(blocs(test))\n",
    "print(liste_blocs)"
   ]
  }
 ],
 "metadata": {
  "kernelspec": {
   "display_name": "Python 3.9.5 64-bit",
   "language": "python",
   "name": "python3"
  },
  "language_info": {
   "codemirror_mode": {
    "name": "ipython",
    "version": 3
   },
   "file_extension": ".py",
   "mimetype": "text/x-python",
   "name": "python",
   "nbconvert_exporter": "python",
   "pygments_lexer": "ipython3",
   "version": "3.9.5"
  },
  "orig_nbformat": 4,
  "vscode": {
   "interpreter": {
    "hash": "aee8b7b246df8f9039afb4144a1f6fd8d2ca17a180786b69acc140d282b71a49"
   }
  }
 },
 "nbformat": 4,
 "nbformat_minor": 2
}
