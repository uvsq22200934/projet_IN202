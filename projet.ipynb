{
 "cells": [
  {
   "attachments": {},
   "cell_type": "markdown",
   "metadata": {},
   "source": [
    "## Outils pour la manipulation d'images et librairies.\n"
   ]
  },
  {
   "cell_type": "code",
   "execution_count": 1,
   "metadata": {},
   "outputs": [],
   "source": [
    "import PIL as pil\n",
    "from PIL import Image, ImageTk\n",
    "import numpy as np\n",
    "import scipy as sp\n",
    "import tkinter as tk\n",
    "from tkinter import filedialog, simpledialog\n",
    "import os\n",
    "import random\n",
    "from math import log10, sqrt\n",
    "\n",
    "def load(filename):\n",
    "    toLoad= Image.open(filename)\n",
    "    return np.asarray(toLoad)\n",
    "\n",
    "\n",
    "def psnr(original, compressed):\n",
    "    mse = np.mean((original - compressed) ** 2)\n",
    "    max_pixel = 255.0\n",
    "    psnr = 20 * log10(max_pixel / sqrt(mse))\n",
    "    return psnr\n",
    "\n",
    "def dct2(a):\n",
    "    return sp.fft.dct( sp.fft.dct( a, axis=0, norm='ortho' ), axis=1, norm='ortho' )\n",
    "\n",
    "def idct2(a):\n",
    "    return sp.fft.idct( sp.fft.idct( a, axis=0 , norm='ortho'), axis=1 , norm='ortho')\n",
    "\n",
    "nomImg=\"\"\n"
   ]
  },
  {
   "attachments": {},
   "cell_type": "markdown",
   "metadata": {},
   "source": [
    "## Normalisation de l'image (YCbCr et padding)"
   ]
  },
  {
   "cell_type": "markdown",
   "metadata": {},
   "source": [
    "QUESTION 1 : \n",
    "Donner le code qui transforme une image RGB en une image YCbCr. Vous pourrez produire une matrice pour chaque composante, pour pouvoir plus facilement les manipuler ind ́ependamment. Vous pouvez stocker les donn ́ees YCbCr comme des entiers ou des flottants, mais vous expliquerez votre choix."
   ]
  },
  {
   "cell_type": "code",
   "execution_count": 2,
   "metadata": {},
   "outputs": [],
   "source": [
    "def YCbCr(mat):\n",
    "    matYCbCr=np.empty((mat.shape[0],mat.shape[1],3),dtype=np.float64)\n",
    "\n",
    "    for i in range(matYCbCr.shape[0]):\n",
    "        for j in range(matYCbCr.shape[1]):\n",
    "            matYCbCr[i,j,0] = 0.299 * mat[i,j,0] + 0.587 * mat[i,j,1] + 0.114 * mat[i,j,2]\n",
    "            \n",
    "            matYCbCr[i,j,1] = - 0.1687 * mat[i,j,0] - 0.3313 * mat[i,j,1] + 0.5 * mat[i,j,2] + 128\n",
    "\n",
    "            matYCbCr[i,j,2] = 0.5 * mat[i,j,0] - 0.4187 * mat[i,j,1] - 0.0813 * mat[i,j,2] + 128\n",
    "            \n",
    "    return matYCbCr"
   ]
  },
  {
   "cell_type": "markdown",
   "metadata": {},
   "source": [
    "QUESTION 2 : Donner le code qui transforme une image YCbCr en une image RGB. Attention, les valeurs des canaux RGB doivent ˆetre un entier dans [0, 255] qui pourra ˆetre cod ́e sur un octet. Appliquer successivement la transformation RGB vers YCbCr puis YCbCr vers RGB et v ́erifier que vous obtenez l’image de d ́epart. Vous consulterez la documentation des fonctions de numpy clip, uint8 et mask qui pourraient vous ˆetre utiles."
   ]
  },
  {
   "cell_type": "code",
   "execution_count": 6,
   "metadata": {},
   "outputs": [],
   "source": [
    "def RGB(mat):\n",
    "    matRGB=np.empty([mat.shape[0],mat.shape[1],3],dtype=np.uint8)\n",
    "\n",
    "    for i in range(matRGB.shape[0]):\n",
    "        for j in range(matRGB.shape[1]): \n",
    "            \n",
    "            y = mat[i,j,0]\n",
    "            cb = mat[i,j,1]\n",
    "            cr = mat[i,j,2]\n",
    "            \n",
    "            r = y + 1.402 * (cr - 128) \n",
    "            g = y - 0.34414 * (cb - 128) - 0.71414 * (cr - 128)\n",
    "            b = y + 1.772 * (cb - 128)\n",
    "            \n",
    "            matRGB[i,j,0] = int(r)\n",
    "            \n",
    "            matRGB[i,j,1] = int(g)\n",
    "            \n",
    "            matRGB[i,j,2] = int(b)\n",
    "             \n",
    "    return matRGB"
   ]
  },
  {
   "cell_type": "code",
   "execution_count": 12,
   "metadata": {},
   "outputs": [
    {
     "name": "stdout",
     "output_type": "stream",
     "text": [
      "63.79010503046213\n"
     ]
    }
   ],
   "source": [
    "test = load(\"/Users/mathildegauteur/Desktop/projet_IN202/test.png\")\n",
    "compresse = YCbCr(test)\n",
    "nouveau = RGB(compresse)\n",
    "print(psnr(test, nouveau))"
   ]
  },
  {
   "cell_type": "markdown",
   "metadata": {},
   "source": [
    "QUESTION 3 : \n",
    "Pour pouvoir traiter une image, nous avons besoin que ses dimensions soient des multiples de 8. Pour le garantir, il faut faire du remplissage (padding), c’est `a dire qu’on va ajouter des lignes et des colonnes de pixel noirs en bas et `a droite de l’image. Si on a une image de dimension 15×21, on obtiendra une image de dimension 16 × 24 avec une ligne suppl ́ementaire et trois colonnes suppl ́ementaires."
   ]
  },
  {
   "cell_type": "markdown",
   "metadata": {},
   "source": [
    "Question 3 : Donner la fonction qui r ́ealise ce padding ainsi que celle qui l’ ́elimine et v ́erifier que l’application de ces deux transformations laissent l’image inchang ́ee."
   ]
  },
  {
   "cell_type": "code",
   "execution_count": 82,
   "metadata": {},
   "outputs": [],
   "source": [
    "def padding(mat):\n",
    "    l = mat.shape[0]\n",
    "    c = mat.shape[1]\n",
    "    while l % 8 != 0:\n",
    "        l += 1\n",
    "    while c % 8 !=0:\n",
    "        c += 1\n",
    "    mat_pad= np.zeros((l, c, 3), dtype=np.uint8)\n",
    "    mat_pad[:mat.shape[0],:mat.shape[1]]=mat\n",
    "    return mat_pad\n",
    "    \n",
    "def retire_padding(mat):\n",
    "    for i in range(mat.shape[0]):\n",
    "        if mat[i,j] ==(0,0,0):\n",
    "            mat.remove(mat[i])\n",
    "    for j in range(mat[j]):\n",
    "        if mat[i,j]==(0,0,0):\n",
    "            mat.remove(mat[j])\n",
    "    return mat"
   ]
  },
  {
   "cell_type": "markdown",
   "metadata": {},
   "source": [
    "QUESTION 4 : Impl ́ementer la fonction qui sous- ́echantillonne une matrice et renvoie une matrice deux fois plus petite."
   ]
  },
  {
   "cell_type": "code",
   "execution_count": 83,
   "metadata": {},
   "outputs": [],
   "source": [
    "def petite_mat(mat):\n",
    "    mat_reduite=np.empty([mat.shape[0], mat.shape[1]//2,3],dtype=np.uint8)\n",
    "    for i in range(0,mat_reduite.shape[0]):\n",
    "        for j in range(0,mat_reduite.shape[1]):\n",
    "            mat_reduite[i,j,1] = (mat[i,2*j,1] + mat[i,2*j+1,1])//2\n",
    "            mat_reduite[i,j,2] = (mat[i,2*j,2] + mat[i,2*j+1,2])//2\n",
    "    return mat_reduite\n"
   ]
  },
  {
   "cell_type": "markdown",
   "metadata": {},
   "source": [
    "QUESTION 5 : Impl ́ementer la fonction qui multiplie par deux la deuxi`eme dimension d’une matrice. Tester `a la suite le sous- ́echantillonnage et cette fonction, vous devez retrouver une image presque identique `a celle de d ́epart."
   ]
  },
  {
   "cell_type": "code",
   "execution_count": 84,
   "metadata": {},
   "outputs": [],
   "source": [
    "def matrice_doublee(mat):\n",
    "    mat_doublee =np.empty([(mat.shape[0]), mat.shape[1]*2, 3], dtype=np.uint8)\n",
    "    for i in range(mat_doublee.shape[0]):\n",
    "        for j in range(mat_doublee.shape[1]):\n",
    "            mat_doublee[i,j], mat[(i+1),(j+1)] = ((mat[i], mat[j]), (mat[i], mat[j]))\n",
    "    return mat_doublee"
   ]
  },
  {
   "attachments": {},
   "cell_type": "markdown",
   "metadata": {},
   "source": [
    "## Découpage en blocs et compression"
   ]
  },
  {
   "cell_type": "markdown",
   "metadata": {},
   "source": [
    "QUESTION 6 : Soit une matrice dont les deux dimensions sont divisibles par 8. Donner une fonction qui d ́ecoupe cette matrice en blocs 8 × 8 et les stocke dans une liste. L’ordre des blocs correspond `a l’ordre de lecture d’une image."
   ]
  },
  {
   "cell_type": "code",
   "execution_count": 16,
   "metadata": {},
   "outputs": [],
   "source": [
    "def blocs(mat):\n",
    "    l_blocs =[]\n",
    "    m=0\n",
    "    n=0\n",
    "    while m < (mat.shape[0]):\n",
    "        while n < (mat.shape[1]):\n",
    "            for i in range(mat.shape[0]//8):\n",
    "                for j in range(mat.shape[1]//8):\n",
    "                    l_blocs[m].append(mat[i,j])\n",
    "                    m+=8\n",
    "                    n+=8\n",
    "\n",
    "    return l_blocs"
   ]
  },
  {
   "cell_type": "markdown",
   "metadata": {},
   "source": [
    "QUESTION 7 : Donner une fonction qui applique la transform ́ee `a chaque bloc d’une liste."
   ]
  },
  {
   "cell_type": "code",
   "execution_count": 17,
   "metadata": {},
   "outputs": [],
   "source": [
    "def transformee(liste_blocs):\n",
    "    blocs_transformes = []\n",
    "    for i in range(len(liste_blocs)):\n",
    "        blocs_transformes.append(dct2(liste_blocs[i]))\n",
    "\n",
    "def detransformtion(blocs):\n",
    "    blocs_detransformes = []\n",
    "    for i in range(len(blocs)):\n",
    "        blocs_detransformes.append(idct2(blocs[i]))"
   ]
  },
  {
   "cell_type": "markdown",
   "metadata": {},
   "source": [
    "QUESTION 8 : Impl ́ementez le filtrage des coefficients des blocs selon un seuil donn ́e en argument."
   ]
  },
  {
   "cell_type": "code",
   "execution_count": 18,
   "metadata": {},
   "outputs": [],
   "source": [
    "def filtrage(bloc,seuil):\n",
    "    for i in range():\n",
    "        for j in range():\n",
    "            if coeff < seuil :\n",
    "                coeff =seuil"
   ]
  },
  {
   "cell_type": "markdown",
   "metadata": {},
   "source": [
    "QUESTION 9 : Donner une fonction qui est capable, `a partir d’une image RGB, de cr ́eer les listes de blocs compress ́es dans les 3 modes."
   ]
  },
  {
   "cell_type": "code",
   "execution_count": null,
   "metadata": {},
   "outputs": [],
   "source": []
  },
  {
   "attachments": {},
   "cell_type": "markdown",
   "metadata": {},
   "source": [
    "## Écriture dans un fichier"
   ]
  },
  {
   "cell_type": "markdown",
   "metadata": {},
   "source": [
    "QUESTION  10 : Pour commencer, vous  ́ecrirez quatres lignes contenant les informations de votre image. La premi`ere ligne contiendra le type du fichier : “SJPG”. La deuxi`eme ligne contiendra les dimensions de l’image dans l’ordre hauteur puis largeur, s ́epar ́ees par un espace, par exemple “200 300”. La troisi`eme ligne contiendra le mode de compression, par exemple “mode 1”. La quatri`eme ligne contiendra “RLE” si vous utilisez un run length encoding, ou “NORLE” sinon."
   ]
  },
  {
   "cell_type": "code",
   "execution_count": 19,
   "metadata": {},
   "outputs": [],
   "source": [
    "f = open('f','w')\n",
    "f.write('SJPG \\nmat.shape[0] mat.shape[1]\\nmode\\nRLE jsp\\n')\n",
    "f.close()"
   ]
  },
  {
   "cell_type": "markdown",
   "metadata": {},
   "source": [
    "QUESTION 11 : Vous  ́ecrirez ensuite le contenu des blocs, d’abord ceux de Y, puis ceux de Cb puis ceux de Cr. Chaque bloc est  ́ecrit sur une ligne, les valeurs  ́etant des entiers s ́epar ́es par de espaces."
   ]
  },
  {
   "cell_type": "code",
   "execution_count": 20,
   "metadata": {},
   "outputs": [],
   "source": [
    "f = open('f', 'a')\n",
    "f.write('bloc[i,j,0] \\nbloc[i,j,1] \\nbloc[i,j,2]')\n",
    "f.close()"
   ]
  },
  {
   "cell_type": "markdown",
   "metadata": {},
   "source": [
    "QUESTION 12 : Ajouter une option `a votre fonction d’ ́ecriture pour qu’elle puisse  ́ecrire les blocs en appliquant le codage RLE."
   ]
  },
  {
   "cell_type": "code",
   "execution_count": null,
   "metadata": {},
   "outputs": [],
   "source": []
  },
  {
   "attachments": {},
   "cell_type": "markdown",
   "metadata": {},
   "source": [
    "## Décompression"
   ]
  },
  {
   "cell_type": "markdown",
   "metadata": {},
   "source": [
    "QUESTION 13 : E ́crire une fonction de d ́ecompression qui prend une liste de blocs pour chaque canal Y,Cb,Cr contenant les coefficients de la DCT et calcule une matrice repr ́esentant l’image en RGB."
   ]
  },
  {
   "cell_type": "code",
   "execution_count": null,
   "metadata": {},
   "outputs": [],
   "source": []
  },
  {
   "cell_type": "markdown",
   "metadata": {},
   "source": [
    "QUESTION 14 : E ́crire une fonction qui lit un fichier SJPG et qui cr ́e ́e les listes de blocs d ́ecrites par le fichier."
   ]
  },
  {
   "cell_type": "code",
   "execution_count": null,
   "metadata": {},
   "outputs": [],
   "source": []
  },
  {
   "cell_type": "markdown",
   "metadata": {},
   "source": [
    "## Optimisations"
   ]
  },
  {
   "cell_type": "markdown",
   "metadata": {},
   "source": [
    "QUESTION 15 :  Impl ́ementer une fonction qui r ́ealise la compression en mode 3. La d ́ecompression ne change pas."
   ]
  },
  {
   "cell_type": "code",
   "execution_count": null,
   "metadata": {},
   "outputs": [],
   "source": []
  },
  {
   "cell_type": "markdown",
   "metadata": {},
   "source": [
    "QUESTION 16 : Impl ́ementer la compression et la d ́ecompression par le mode 4. L’ ́ecriture dans un fichier ne change pas."
   ]
  },
  {
   "cell_type": "code",
   "execution_count": null,
   "metadata": {},
   "outputs": [],
   "source": []
  },
  {
   "cell_type": "markdown",
   "metadata": {},
   "source": [
    "QUESTION 17 : E ́crire et lire les coefficients dans le fichier en suivant l’ordre en zig-zag."
   ]
  },
  {
   "cell_type": "code",
   "execution_count": null,
   "metadata": {},
   "outputs": [],
   "source": []
  },
  {
   "attachments": {},
   "cell_type": "markdown",
   "metadata": {},
   "source": [
    "## Tests "
   ]
  },
  {
   "cell_type": "code",
   "execution_count": 22,
   "metadata": {},
   "outputs": [],
   "source": [
    "test = load(\"/Users/mathildegauteur/Desktop/projet_IN202/test.png\")\n",
    "Image.fromarray(test,'RGB').show()"
   ]
  },
  {
   "cell_type": "code",
   "execution_count": 23,
   "metadata": {},
   "outputs": [],
   "source": [
    "imgycbcr= YCbCr(test)\n",
    "Image.fromarray(imgycbcr, 'YCbCr').show()"
   ]
  },
  {
   "cell_type": "code",
   "execution_count": 24,
   "metadata": {},
   "outputs": [],
   "source": [
    "imgRGB= RGB(imgycbcr)\n",
    "Image.fromarray(imgRGB, 'RGB').show()\n",
    "#plt.imshow(imgRGB)\n",
    "#plt.show()"
   ]
  },
  {
   "cell_type": "code",
   "execution_count": 76,
   "metadata": {},
   "outputs": [],
   "source": [
    "imgpadding = padding(test)\n",
    "Image.fromarray(imgpadding, 'RGB').show()"
   ]
  },
  {
   "cell_type": "code",
   "execution_count": 77,
   "metadata": {},
   "outputs": [
    {
     "ename": "ValueError",
     "evalue": "The truth value of an array with more than one element is ambiguous. Use a.any() or a.all()",
     "output_type": "error",
     "traceback": [
      "\u001b[0;31m---------------------------------------------------------------------------\u001b[0m",
      "\u001b[0;31mValueError\u001b[0m                                Traceback (most recent call last)",
      "Cell \u001b[0;32mIn [77], line 1\u001b[0m\n\u001b[0;32m----> 1\u001b[0m img_retire_padding \u001b[38;5;241m=\u001b[39m \u001b[43mretire_padding\u001b[49m\u001b[43m(\u001b[49m\u001b[43mimgpadding\u001b[49m\u001b[43m)\u001b[49m\n\u001b[1;32m      2\u001b[0m Image\u001b[38;5;241m.\u001b[39mfromarray(img_retire_padding, \u001b[38;5;124m'\u001b[39m\u001b[38;5;124mRGB\u001b[39m\u001b[38;5;124m'\u001b[39m)\u001b[38;5;241m.\u001b[39mshow()\n",
      "Cell \u001b[0;32mIn [74], line 14\u001b[0m, in \u001b[0;36mretire_padding\u001b[0;34m(mat)\u001b[0m\n\u001b[1;32m     12\u001b[0m \u001b[38;5;28;01mdef\u001b[39;00m \u001b[38;5;21mretire_padding\u001b[39m(mat):\n\u001b[1;32m     13\u001b[0m     \u001b[38;5;28;01mfor\u001b[39;00m i \u001b[38;5;129;01min\u001b[39;00m \u001b[38;5;28mrange\u001b[39m(mat\u001b[38;5;241m.\u001b[39mshape[\u001b[38;5;241m0\u001b[39m]):\n\u001b[0;32m---> 14\u001b[0m         \u001b[38;5;28;01mif\u001b[39;00m mat[i] \u001b[38;5;241m==\u001b[39m(\u001b[38;5;241m0\u001b[39m,\u001b[38;5;241m0\u001b[39m,\u001b[38;5;241m0\u001b[39m):\n\u001b[1;32m     15\u001b[0m             mat\u001b[38;5;241m.\u001b[39mremove(mat[i])\n\u001b[1;32m     16\u001b[0m     \u001b[38;5;28;01mfor\u001b[39;00m j \u001b[38;5;129;01min\u001b[39;00m \u001b[38;5;28mrange\u001b[39m(mat[j]):\n",
      "\u001b[0;31mValueError\u001b[0m: The truth value of an array with more than one element is ambiguous. Use a.any() or a.all()"
     ]
    }
   ],
   "source": [
    "img_retire_padding = retire_padding(imgpadding)\n",
    "Image.fromarray(img_retire_padding, 'RGB').show()"
   ]
  },
  {
   "cell_type": "code",
   "execution_count": 79,
   "metadata": {},
   "outputs": [
    {
     "name": "stderr",
     "output_type": "stream",
     "text": [
      "/var/folders/5h/h7jwtxf91bb0l13gphz2b65m0000gn/T/ipykernel_86677/3695543901.py:5: RuntimeWarning: overflow encountered in scalar add\n",
      "  mat_reduite[i,j,1] = (mat[i,2*j,1] + mat[i,2*j+1,1])//2\n",
      "/var/folders/5h/h7jwtxf91bb0l13gphz2b65m0000gn/T/ipykernel_86677/3695543901.py:6: RuntimeWarning: overflow encountered in scalar add\n",
      "  mat_reduite[i,j,2] = (mat[i,2*j,2] + mat[i,2*j+1,2])//2\n"
     ]
    }
   ],
   "source": [
    "imgreduite  = petite_mat(test)\n",
    "Image.fromarray(imgreduite, 'YCbCr').show()"
   ]
  },
  {
   "cell_type": "code",
   "execution_count": 80,
   "metadata": {},
   "outputs": [
    {
     "ename": "ValueError",
     "evalue": "setting an array element with a sequence. The requested array would exceed the maximum number of dimension of 1.",
     "output_type": "error",
     "traceback": [
      "\u001b[0;31m---------------------------------------------------------------------------\u001b[0m",
      "\u001b[0;31mValueError\u001b[0m                                Traceback (most recent call last)",
      "Cell \u001b[0;32mIn [80], line 1\u001b[0m\n\u001b[0;32m----> 1\u001b[0m imgdoublee \u001b[38;5;241m=\u001b[39m \u001b[43mmatrice_doublee\u001b[49m\u001b[43m(\u001b[49m\u001b[43mimgreduite\u001b[49m\u001b[43m)\u001b[49m\n\u001b[1;32m      2\u001b[0m Image\u001b[38;5;241m.\u001b[39mfromarray(imgdoublee, \u001b[38;5;124m'\u001b[39m\u001b[38;5;124mYCbCr\u001b[39m\u001b[38;5;124m'\u001b[39m)\u001b[38;5;241m.\u001b[39mshow()\n",
      "Cell \u001b[0;32mIn [15], line 5\u001b[0m, in \u001b[0;36mmatrice_doublee\u001b[0;34m(mat)\u001b[0m\n\u001b[1;32m      3\u001b[0m \u001b[38;5;28;01mfor\u001b[39;00m i \u001b[38;5;129;01min\u001b[39;00m \u001b[38;5;28mrange\u001b[39m(mat_doublee\u001b[38;5;241m.\u001b[39mshape[\u001b[38;5;241m0\u001b[39m]):\n\u001b[1;32m      4\u001b[0m     \u001b[38;5;28;01mfor\u001b[39;00m j \u001b[38;5;129;01min\u001b[39;00m \u001b[38;5;28mrange\u001b[39m(mat_doublee\u001b[38;5;241m.\u001b[39mshape[\u001b[38;5;241m1\u001b[39m]):\n\u001b[0;32m----> 5\u001b[0m         mat_doublee[i,j], mat[(i\u001b[38;5;241m+\u001b[39m\u001b[38;5;241m1\u001b[39m),(j\u001b[38;5;241m+\u001b[39m\u001b[38;5;241m1\u001b[39m)] \u001b[38;5;241m=\u001b[39m ((mat[i]), mat[j]), (mat[i], mat[j])\n",
      "\u001b[0;31mValueError\u001b[0m: setting an array element with a sequence. The requested array would exceed the maximum number of dimension of 1."
     ]
    }
   ],
   "source": [
    "imgdoublee = matrice_doublee(imgreduite)\n",
    "Image.fromarray(imgdoublee, 'YCbCr').show()"
   ]
  }
 ],
 "metadata": {
  "kernelspec": {
   "display_name": "Python 3.9.5 64-bit",
   "language": "python",
   "name": "python3"
  },
  "language_info": {
   "codemirror_mode": {
    "name": "ipython",
    "version": 3
   },
   "file_extension": ".py",
   "mimetype": "text/x-python",
   "name": "python",
   "nbconvert_exporter": "python",
   "pygments_lexer": "ipython3",
   "version": "3.9.5"
  },
  "orig_nbformat": 4,
  "vscode": {
   "interpreter": {
    "hash": "aee8b7b246df8f9039afb4144a1f6fd8d2ca17a180786b69acc140d282b71a49"
   }
  }
 },
 "nbformat": 4,
 "nbformat_minor": 2
}
